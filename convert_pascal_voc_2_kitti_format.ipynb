{
 "cells": [
  {
   "cell_type": "code",
   "execution_count": 24,
   "metadata": {
    "collapsed": true
   },
   "outputs": [],
   "source": [
    "import cv2, os, shutil\n",
    "import xml.etree.ElementTree as ET"
   ]
  },
  {
   "cell_type": "code",
   "execution_count": 2,
   "metadata": {
    "collapsed": true
   },
   "outputs": [],
   "source": [
    "ann_DIR = \"/opt/py-faster-rcnn/data/VOCdevkit2007/VOC2007.cd24/Annotations\"\n",
    "img_DIR = \"/opt/py-faster-rcnn/data/VOCdevkit2007/VOC2007.cd24/JPEGImages\"\n",
    "trainval_file = \"/opt/py-faster-rcnn/data/VOCdevkit2007/VOC2007.cd24/ImageSets/Main/trainval.txt\"\n",
    "test_file = \"/opt/py-faster-rcnn/data/VOCdevkit2007/VOC2007.cd24/ImageSets/Main/test.txt\""
   ]
  },
  {
   "cell_type": "code",
   "execution_count": 42,
   "metadata": {
    "collapsed": false
   },
   "outputs": [],
   "source": [
    "def readXmlAnno(im_fn, ann_DIR):\n",
    "    anno_pn = os.path.join(ann_DIR, im_fn+'.xml')\n",
    "    #print 'On annotation: {}'.format(anno_pn)\n",
    "    tree = ET.parse(anno_pn)\n",
    "    root = tree.getroot()\n",
    "    \n",
    "    p_anno = {}\n",
    "    size = root.find('size')\n",
    "    d_size = {\"width\": size.find('width').text, \n",
    "              \"height\": size.find('height').text,\n",
    "              \"depth\": size.find('depth').text\n",
    "             }        \n",
    "    p_anno['size'] = d_size\n",
    "    \n",
    "    l_obj = []\n",
    "    for obj in root.findall('object'):\n",
    "        d_obj = {\"name\": obj.find('name').text, \"truncated\": '0.0', \"difficult\": '0.0', \"occluded\":'0.0',\n",
    "                 \"xmin\": float(obj.find('bndbox').find('xmin').text),\n",
    "                 \"ymin\": float(obj.find('bndbox').find('ymin').text),\n",
    "                 \"xmax\": float(obj.find('bndbox').find('xmax').text),\n",
    "                 \"ymax\": float(obj.find('bndbox').find('ymax').text),\n",
    "                }\n",
    "        l_obj.append(d_obj)\n",
    "    \n",
    "    p_anno['l_obj'] = l_obj\n",
    "        \n",
    "    if len(l_obj) > 0:       \n",
    "        return p_anno\n",
    "    else:\n",
    "        return None    \n",
    "    \n",
    "def convertToKitti(p_anno):\n",
    "    l_annos = []\n",
    "    for obj in p_anno['l_obj']:\n",
    "        k_anno = {}\n",
    "        k_anno[\"type\"] = obj[\"name\"]\n",
    "        k_anno[\"truncated\"] = obj[\"truncated\"]\n",
    "        k_anno[\"occluded\"] = obj[\"occluded\"]\n",
    "        k_anno[\"alpha\"] = '0.0'\n",
    "        k_anno[\"bbox\"] = \"{:.1f} {:.1f} {:.1f} {:.1f}\".format(obj[\"xmin\"],obj[\"ymin\"],obj[\"xmax\"],obj[\"ymax\"])\n",
    "        k_anno[\"dimensions\"] = \"{:.1f} {:.1f} {:.1f}\".format(0,0,0)\n",
    "        k_anno[\"location\"] = \"{:.1f} {:.1f} {:.1f}\".format(0,0,0)\n",
    "        k_anno[\"rotation_y\"] = '0.0'\n",
    "        l_annos.append(k_anno)\n",
    "        \n",
    "    return l_annos\n",
    "    "
   ]
  },
  {
   "cell_type": "markdown",
   "metadata": {},
   "source": [
    "### Create our own kitti dataset"
   ]
  },
  {
   "cell_type": "code",
   "execution_count": 23,
   "metadata": {
    "collapsed": true
   },
   "outputs": [],
   "source": [
    "k_train_img_DIR = \"/opt/data/kitti_cd/train/images\"\n",
    "k_train_lab_DIR = \"/opt/data/kitti_cd/train/labels\"\n",
    "k_val_img_DIR = \"/opt/data/kitti_cd/val/images\"\n",
    "k_val_lab_DIR = \"/opt/data/kitti_cd/val/labels\""
   ]
  },
  {
   "cell_type": "code",
   "execution_count": 47,
   "metadata": {
    "collapsed": false
   },
   "outputs": [],
   "source": [
    "# Processing train data\n",
    "'''\n",
    "with open(trainval_file) as in_f:\n",
    "    for im_fn in in_f:\n",
    "        #print 'Processing img: {}'.format(im_fn)\n",
    "        im_fn = im_fn.split('\\n')[0].split('\\r')[0]\n",
    "        p_anno = readXmlAnno(im_fn, ann_DIR)\n",
    "        if p_anno != None:\n",
    "            l_annos = convertToKitti(p_anno)\n",
    "            \n",
    "            k_anno_file = os.path.join(k_train_lab_DIR,im_fn+\".txt\")\n",
    "            with open(k_anno_file, 'w') as out_f:\n",
    "                for k_anno in l_annos:\n",
    "                    #print k_anno\n",
    "                    to_write = \"\"\n",
    "                    to_write += str(k_anno['type'])+' '\n",
    "                    to_write += str(k_anno['truncated'])+' '\n",
    "                    to_write += str(k_anno['occluded'])+' '\n",
    "                    to_write += str(k_anno['alpha'])+' '\n",
    "                    to_write += str(k_anno['bbox'])+' '\n",
    "                    to_write += str(k_anno['dimensions'])+' '\n",
    "                    to_write += str(k_anno['location'])+' '\n",
    "                    to_write += str(k_anno['rotation_y'])\n",
    "                    #print to_write\n",
    "                    out_f.write(to_write+'\\n')\n",
    "                out_f.close()\n",
    "            \n",
    "            # copy im file\n",
    "            from_file = os.path.join(img_DIR,im_fn+\".jpg\")\n",
    "            to_file = os.path.join(k_train_img_DIR,im_fn+\".jpg\")\n",
    "            shutil.copy2(from_file, to_file)\n",
    "            #break\n",
    "    in_f.close()\n",
    "'''\n",
    "\n",
    "# Processing test data\n",
    "with open(test_file) as in_f:\n",
    "    for im_fn in in_f:\n",
    "        #print 'Processing img: {}'.format(im_fn)\n",
    "        im_fn = im_fn.split('\\n')[0].split('\\r')[0]\n",
    "        p_anno = readXmlAnno(im_fn, ann_DIR)\n",
    "        if p_anno != None:\n",
    "            l_annos = convertToKitti(p_anno)\n",
    "            \n",
    "            k_anno_file = os.path.join(k_val_lab_DIR,im_fn+\".txt\")\n",
    "            with open(k_anno_file, 'w') as out_f:\n",
    "                for k_anno in l_annos:\n",
    "                    #print k_anno\n",
    "                    to_write = \"\"\n",
    "                    to_write += str(k_anno['type'])+' '\n",
    "                    to_write += str(k_anno['truncated'])+' '\n",
    "                    to_write += str(k_anno['occluded'])+' '\n",
    "                    to_write += str(k_anno['alpha'])+' '\n",
    "                    to_write += str(k_anno['bbox'])+' '\n",
    "                    to_write += str(k_anno['dimensions'])+' '\n",
    "                    to_write += str(k_anno['location'])+' '\n",
    "                    to_write += str(k_anno['rotation_y'])\n",
    "                    #print to_write\n",
    "                    out_f.write(to_write+'\\n')\n",
    "                out_f.close()\n",
    "            \n",
    "            # copy im file\n",
    "            from_file = os.path.join(img_DIR,im_fn+\".jpg\")\n",
    "            to_file = os.path.join(k_val_img_DIR,im_fn+\".jpg\")\n",
    "            shutil.copy2(from_file, to_file)\n",
    "            #break\n",
    "    in_f.close()"
   ]
  },
  {
   "cell_type": "code",
   "execution_count": null,
   "metadata": {
    "collapsed": true
   },
   "outputs": [],
   "source": []
  }
 ],
 "metadata": {
  "kernelspec": {
   "display_name": "Python 2",
   "language": "python",
   "name": "python2"
  },
  "language_info": {
   "codemirror_mode": {
    "name": "ipython",
    "version": 2
   },
   "file_extension": ".py",
   "mimetype": "text/x-python",
   "name": "python",
   "nbconvert_exporter": "python",
   "pygments_lexer": "ipython2",
   "version": "2.7.12"
  }
 },
 "nbformat": 4,
 "nbformat_minor": 1
}
